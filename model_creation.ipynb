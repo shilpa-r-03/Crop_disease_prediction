{
  "cells": [
    {
      "cell_type": "code",
      "execution_count": 1,
      "metadata": {
        "id": "18S5nzBvjld7"
      },
      "outputs": [],
      "source": [
        "import tensorflow as tf\n",
        "import numpy as np\n",
        "from tensorflow import keras\n",
        "import os\n",
        "import cv2\n",
        "from tensorflow.keras.preprocessing.image import ImageDataGenerator\n",
        "from tensorflow.keras.preprocessing import image\n",
        "import matplotlib.pyplot as plt"
      ]
    },
    {
      "cell_type": "code",
      "execution_count": 2,
      "metadata": {
        "id": "KsaOYR--s5It"
      },
      "outputs": [],
      "source": [
        "train = ImageDataGenerator(rescale=1/255)\n",
        "test = ImageDataGenerator(rescale=1/255)\n"
      ]
    },
    {
      "cell_type": "code",
      "execution_count": 3,
      "metadata": {
        "colab": {
          "base_uri": "https://localhost:8080/"
        },
        "id": "S3QEjrcrfgVW",
        "outputId": "3c0cab84-e166-4b1d-9e73-eb2b056cf91c"
      },
      "outputs": [
        {
          "name": "stdout",
          "output_type": "stream",
          "text": [
            "Found 10100 images belonging to 33 classes.\n",
            "Found 3300 images belonging to 33 classes.\n"
          ]
        }
      ],
      "source": [
        "train_dataset = train.flow_from_directory(r\"C:\\Users\\shilp\\OneDrive\\Desktop\\crop disease\\dataset\\train\",\n",
        "                                          target_size=(224,224),\n",
        "                                          batch_size = 32,\n",
        "                                          class_mode = 'categorical')\n",
        "\n",
        "test_dataset = test.flow_from_directory(r\"C:\\Users\\shilp\\OneDrive\\Desktop\\crop disease\\dataset\\test\",\n",
        "                                          target_size=(224,224),\n",
        "                                          batch_size =32,\n",
        "                                          class_mode = 'categorical')"
      ]
    },
    {
      "cell_type": "code",
      "execution_count": 4,
      "metadata": {
        "colab": {
          "base_uri": "https://localhost:8080/"
        },
        "id": "QIqjgoC4gY94",
        "outputId": "6d65024c-08ff-43a0-eab2-c321df326b4b"
      },
      "outputs": [
        {
          "data": {
            "text/plain": [
              "{'Apple___Apple_scab': 0,\n",
              " 'Apple___Black_rot': 1,\n",
              " 'Apple___Cedar_apple_rust': 2,\n",
              " 'Apple___healthy': 3,\n",
              " 'Cherry_(including_sour)___Powdery_mildew': 4,\n",
              " 'Cherry_(including_sour)___healthy': 5,\n",
              " 'Corn_(maize)___Cercospora_leaf_spot Gray_leaf_spot': 6,\n",
              " 'Corn_(maize)___Common_rust_': 7,\n",
              " 'Corn_(maize)___Northern_Leaf_Blight': 8,\n",
              " 'Corn_(maize)___healthy': 9,\n",
              " 'Grape___Black_rot': 10,\n",
              " 'Grape___Esca_(Black_Measles)': 11,\n",
              " 'Grape___Leaf_blight_(Isariopsis_Leaf_Spot)': 12,\n",
              " 'Grape___healthy': 13,\n",
              " 'Peach___Bacterial_spot': 14,\n",
              " 'Peach___healthy': 15,\n",
              " 'Pepper,_bell___Bacterial_spot': 16,\n",
              " 'Pepper,_bell___healthy': 17,\n",
              " 'Potato___Early_blight': 18,\n",
              " 'Potato___Late_blight': 19,\n",
              " 'Potato___healthy': 20,\n",
              " 'Strawberry___Leaf_scorch': 21,\n",
              " 'Strawberry___healthy': 22,\n",
              " 'Tomato___Bacterial_spot': 23,\n",
              " 'Tomato___Early_blight': 24,\n",
              " 'Tomato___Late_blight': 25,\n",
              " 'Tomato___Leaf_Mold': 26,\n",
              " 'Tomato___Septoria_leaf_spot': 27,\n",
              " 'Tomato___Spider_mites Two-spotted_spider_mite': 28,\n",
              " 'Tomato___Target_Spot': 29,\n",
              " 'Tomato___Tomato_Yellow_Leaf_Curl_Virus': 30,\n",
              " 'Tomato___Tomato_mosaic_virus': 31,\n",
              " 'Tomato___healthy': 32}"
            ]
          },
          "execution_count": 4,
          "metadata": {},
          "output_type": "execute_result"
        }
      ],
      "source": [
        "test_dataset.class_indices"
      ]
    },
    {
      "cell_type": "code",
      "execution_count": 5,
      "metadata": {
        "id": "ft8kHQ4zg0ql"
      },
      "outputs": [],
      "source": [
        "#model building\n",
        "model = keras.Sequential()\n",
        "\n",
        "model.add(keras.layers.Conv2D(32,(3,3),activation='relu',input_shape=(224,224,3)))\n",
        "model.add(keras.layers.MaxPool2D(2,2))\n",
        "\n",
        "model.add(keras.layers.Conv2D(64,(3,3),activation='relu'))\n",
        "model.add(keras.layers.MaxPool2D(2,2))\n",
        "\n",
        "model.add(keras.layers.Conv2D(128,(3,3),activation='relu'))\n",
        "model.add(keras.layers.MaxPool2D(2,2))\n",
        "\n",
        "model.add(keras.layers.Conv2D(128,(3,3),activation='relu'))\n",
        "model.add(keras.layers.MaxPool2D(2,2))\n",
        "\n",
        "model.add(keras.layers.Flatten())\n",
        "\n",
        "model.add(keras.layers.Dense(512,activation='relu'))\n",
        "\n",
        "model.add(keras.layers.Dense(33,activation='softmax'))"
      ]
    },
    {
      "cell_type": "code",
      "execution_count": 6,
      "metadata": {
        "colab": {
          "base_uri": "https://localhost:8080/"
        },
        "id": "VFPoEiQvidf9",
        "outputId": "77595f80-f25e-421e-98b2-e7d73e4f073f"
      },
      "outputs": [
        {
          "name": "stdout",
          "output_type": "stream",
          "text": [
            "Model: \"sequential\"\n",
            "_________________________________________________________________\n",
            " Layer (type)                Output Shape              Param #   \n",
            "=================================================================\n",
            " conv2d (Conv2D)             (None, 222, 222, 32)      896       \n",
            "                                                                 \n",
            " max_pooling2d (MaxPooling2  (None, 111, 111, 32)      0         \n",
            " D)                                                              \n",
            "                                                                 \n",
            " conv2d_1 (Conv2D)           (None, 109, 109, 64)      18496     \n",
            "                                                                 \n",
            " max_pooling2d_1 (MaxPoolin  (None, 54, 54, 64)        0         \n",
            " g2D)                                                            \n",
            "                                                                 \n",
            " conv2d_2 (Conv2D)           (None, 52, 52, 128)       73856     \n",
            "                                                                 \n",
            " max_pooling2d_2 (MaxPoolin  (None, 26, 26, 128)       0         \n",
            " g2D)                                                            \n",
            "                                                                 \n",
            " conv2d_3 (Conv2D)           (None, 24, 24, 128)       147584    \n",
            "                                                                 \n",
            " max_pooling2d_3 (MaxPoolin  (None, 12, 12, 128)       0         \n",
            " g2D)                                                            \n",
            "                                                                 \n",
            " flatten (Flatten)           (None, 18432)             0         \n",
            "                                                                 \n",
            " dense (Dense)               (None, 512)               9437696   \n",
            "                                                                 \n",
            " dense_1 (Dense)             (None, 33)                16929     \n",
            "                                                                 \n",
            "=================================================================\n",
            "Total params: 9695457 (36.99 MB)\n",
            "Trainable params: 9695457 (36.99 MB)\n",
            "Non-trainable params: 0 (0.00 Byte)\n",
            "_________________________________________________________________\n"
          ]
        }
      ],
      "source": [
        "model.summary()"
      ]
    },
    {
      "cell_type": "code",
      "execution_count": 7,
      "metadata": {
        "id": "OaK6pJCRi5Pv"
      },
      "outputs": [],
      "source": [
        "# Compile the model\n",
        "model.compile(optimizer='adam', loss='categorical_crossentropy', metrics=['accuracy'])"
      ]
    },
    {
      "cell_type": "code",
      "execution_count": 8,
      "metadata": {
        "colab": {
          "base_uri": "https://localhost:8080/"
        },
        "id": "_dJtJt5Wi-ta",
        "outputId": "8c03b048-860b-4edb-92cb-a264fd1351c7"
      },
      "outputs": [
        {
          "name": "stdout",
          "output_type": "stream",
          "text": [
            "Epoch 1/10\n",
            "316/316 [==============================] - 866s 3s/step - loss: 2.1813 - accuracy: 0.3655 - val_loss: 1.0743 - val_accuracy: 0.6724\n",
            "Epoch 2/10\n",
            "316/316 [==============================] - 1406s 4s/step - loss: 0.9054 - accuracy: 0.7225 - val_loss: 0.4691 - val_accuracy: 0.8582\n",
            "Epoch 3/10\n",
            "316/316 [==============================] - 1143s 4s/step - loss: 0.4642 - accuracy: 0.8480 - val_loss: 0.2912 - val_accuracy: 0.9006\n",
            "Epoch 4/10\n",
            "316/316 [==============================] - 474s 2s/step - loss: 0.2229 - accuracy: 0.9283 - val_loss: 0.1031 - val_accuracy: 0.9652\n",
            "Epoch 5/10\n",
            "316/316 [==============================] - 661s 2s/step - loss: 0.1611 - accuracy: 0.9446 - val_loss: 0.1348 - val_accuracy: 0.9597\n",
            "Epoch 6/10\n",
            "316/316 [==============================] - 883s 3s/step - loss: 0.1043 - accuracy: 0.9652 - val_loss: 0.1391 - val_accuracy: 0.9552\n",
            "Epoch 7/10\n",
            "316/316 [==============================] - 1298s 4s/step - loss: 0.0769 - accuracy: 0.9732 - val_loss: 0.0733 - val_accuracy: 0.9776\n",
            "Epoch 8/10\n",
            "316/316 [==============================] - 722s 2s/step - loss: 0.0702 - accuracy: 0.9756 - val_loss: 0.0546 - val_accuracy: 0.9861\n",
            "Epoch 9/10\n",
            "316/316 [==============================] - 494s 2s/step - loss: 0.0876 - accuracy: 0.9739 - val_loss: 0.0866 - val_accuracy: 0.9703\n",
            "Epoch 10/10\n",
            "316/316 [==============================] - 738s 2s/step - loss: 0.0489 - accuracy: 0.9859 - val_loss: 0.0903 - val_accuracy: 0.9718\n"
          ]
        }
      ],
      "source": [
        "r = model.fit(train_dataset,epochs =10,validation_data = test_dataset)"
      ]
    },
    {
      "cell_type": "code",
      "execution_count": 9,
      "metadata": {
        "colab": {
          "base_uri": "https://localhost:8080/"
        },
        "id": "vMnd_5mnANHy",
        "outputId": "50913785-54b0-4f59-a5d3-d2fd704aa292"
      },
      "outputs": [
        {
          "name": "stdout",
          "output_type": "stream",
          "text": [
            "104/104 [==============================] - 32s 310ms/step - loss: 0.0903 - accuracy: 0.9718\n"
          ]
        }
      ],
      "source": [
        "acc_score=model.evaluate(test_dataset)"
      ]
    },
    {
      "cell_type": "code",
      "execution_count": 10,
      "metadata": {
        "colab": {
          "base_uri": "https://localhost:8080/"
        },
        "id": "hQTn3ZvDAWX0",
        "outputId": "87a6986f-395a-4391-92fa-945d2cc8abaa"
      },
      "outputs": [
        {
          "name": "stderr",
          "output_type": "stream",
          "text": [
            "C:\\Users\\shilp\\AppData\\Roaming\\Python\\Python311\\site-packages\\keras\\src\\engine\\training.py:3000: UserWarning: You are saving your model as an HDF5 file via `model.save()`. This file format is considered legacy. We recommend using instead the native Keras format, e.g. `model.save('my_model.keras')`.\n",
            "  saving_api.save_model(\n"
          ]
        }
      ],
      "source": [
        "model.save('keras_model.h5')"
      ]
    },
    {
      "cell_type": "code",
      "execution_count": 11,
      "metadata": {
        "colab": {
          "base_uri": "https://localhost:8080/",
          "height": 430
        },
        "id": "XYw6zcCGAhBZ",
        "outputId": "5b201fef-7d2f-4c75-85c6-451b1ee35584"
      },
      "outputs": [
        {
          "data": {
            "image/png": "[encoded data removed]",
            "text/plain": [
              "<Figure size 640x480 with 1 Axes>"
            ]
          },
          "metadata": {},
          "output_type": "display_data"
        }
      ],
      "source": [
        "#Display the accuracy\n",
        "plt.plot(r.history['accuracy'],label='train_accuracy')\n",
        "plt.plot(r.history['val_accuracy'],label='val_accuracy')\n",
        "plt.legend()\n",
        "plt.show()"
      ]
    },
    {
      "cell_type": "code",
      "execution_count": 12,
      "metadata": {
        "colab": {
          "base_uri": "https://localhost:8080/",
          "height": 430
        },
        "id": "QoWmA3bBA1Yh",
        "outputId": "cd9636b7-1c33-45f5-db61-e81dbfd7d442"
      },
      "outputs": [
        {
          "data": {
            "image/png": "[encoded data removed]",
            "text/plain": [
              "<Figure size 640x480 with 1 Axes>"
            ]
          },
          "metadata": {},
          "output_type": "display_data"
        }
      ],
      "source": [
        "#Display the loss\n",
        "\n",
        "plt.plot(r.history['loss'],label='train_loss')\n",
        "plt.plot(r.history['val_loss'],label='validation_loss')\n",
        "plt.legend()\n",
        "plt.show()"
      ]
    }
  ],
  "metadata": {
    "accelerator": "GPU",
    "colab": {
      "gpuType": "T4",
      "provenance": []
    },
    "kernelspec": {
      "display_name": "Python 3",
      "name": "python3"
    },
    "language_info": {
      "codemirror_mode": {
        "name": "ipython",
        "version": 3
      },
      "file_extension": ".py",
      "mimetype": "text/x-python",
      "name": "python",
      "nbconvert_exporter": "python",
      "pygments_lexer": "ipython3",
      "version": "3.11.2"
    }
  },
  "nbformat": 4,
  "nbformat_minor": 0
}
